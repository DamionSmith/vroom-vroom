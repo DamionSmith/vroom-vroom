{
 "cells": [
  {
   "cell_type": "code",
   "execution_count": 92,
   "metadata": {},
   "outputs": [],
   "source": [
    "import pandas as pd\n",
    "from ucimlrepo import fetch_ucirepo \n",
    "import numpy as np\n",
    "import matplotlib.pyplot as plt\n",
    "from matplotlib import ticker\n",
    "import seaborn as sns\n",
    "import warnings\n",
    "warnings.filterwarnings('ignore')\n",
    "#fetch dataset\n",
    "automobile = fetch_ucirepo(id=10)"
   ]
  },
  {
   "cell_type": "code",
   "execution_count": 93,
   "metadata": {},
   "outputs": [
    {
     "data": {
      "text/plain": [
       "(205, 25)"
      ]
     },
     "execution_count": 93,
     "metadata": {},
     "output_type": "execute_result"
    }
   ],
   "source": [
    "df = automobile.data.features\n",
    "df.shape"
   ]
  },
  {
   "cell_type": "code",
   "execution_count": 94,
   "metadata": {},
   "outputs": [
    {
     "data": {
      "text/plain": [
       "price                 4\n",
       "highway-mpg           0\n",
       "city-mpg              0\n",
       "peak-rpm              2\n",
       "horsepower            2\n",
       "compression-ratio     0\n",
       "stroke                4\n",
       "bore                  4\n",
       "fuel-system           0\n",
       "engine-size           0\n",
       "num-of-cylinders      0\n",
       "engine-type           0\n",
       "curb-weight           0\n",
       "height                0\n",
       "width                 0\n",
       "length                0\n",
       "wheel-base            0\n",
       "engine-location       0\n",
       "drive-wheels          0\n",
       "body-style            0\n",
       "num-of-doors          2\n",
       "aspiration            0\n",
       "fuel-type             0\n",
       "make                  0\n",
       "normalized-losses    41\n",
       "dtype: int64"
      ]
     },
     "execution_count": 94,
     "metadata": {},
     "output_type": "execute_result"
    }
   ],
   "source": [
    "\n",
    "df = df.replace('Missing', np.nan)\n",
    "df.isna().sum()\n"
   ]
  },
  {
   "cell_type": "code",
   "execution_count": 95,
   "metadata": {},
   "outputs": [],
   "source": [
    "new_df = df.drop(columns=[\"num-of-doors\", \"stroke\",\"bore\"])"
   ]
  },
  {
   "cell_type": "code",
   "execution_count": 96,
   "metadata": {},
   "outputs": [
    {
     "data": {
      "text/plain": [
       "(205, 22)"
      ]
     },
     "execution_count": 96,
     "metadata": {},
     "output_type": "execute_result"
    }
   ],
   "source": [
    "new_df.shape"
   ]
  },
  {
   "cell_type": "code",
   "execution_count": 97,
   "metadata": {},
   "outputs": [],
   "source": [
    "new_df= new_df.dropna()"
   ]
  },
  {
   "cell_type": "code",
   "execution_count": 98,
   "metadata": {},
   "outputs": [
    {
     "data": {
      "text/plain": [
       "price                0\n",
       "highway-mpg          0\n",
       "city-mpg             0\n",
       "peak-rpm             0\n",
       "horsepower           0\n",
       "compression-ratio    0\n",
       "fuel-system          0\n",
       "engine-size          0\n",
       "num-of-cylinders     0\n",
       "engine-type          0\n",
       "curb-weight          0\n",
       "height               0\n",
       "width                0\n",
       "length               0\n",
       "wheel-base           0\n",
       "engine-location      0\n",
       "drive-wheels         0\n",
       "body-style           0\n",
       "aspiration           0\n",
       "fuel-type            0\n",
       "make                 0\n",
       "normalized-losses    0\n",
       "dtype: int64"
      ]
     },
     "execution_count": 98,
     "metadata": {},
     "output_type": "execute_result"
    }
   ],
   "source": [
    "new_df.isna().sum()"
   ]
  },
  {
   "cell_type": "code",
   "execution_count": 99,
   "metadata": {},
   "outputs": [],
   "source": [
    "dropped_df=new_df.drop(columns=['fuel-system', 'engine-type','engine-location','drive-wheels', 'body-style','fuel-type','aspiration'])"
   ]
  },
  {
   "cell_type": "code",
   "execution_count": 100,
   "metadata": {},
   "outputs": [],
   "source": [
    "auto_dummy= pd.get_dummies(dropped_df,drop_first= True)"
   ]
  },
  {
   "cell_type": "code",
   "execution_count": 101,
   "metadata": {},
   "outputs": [
    {
     "data": {
      "text/plain": [
       "(164, 31)"
      ]
     },
     "execution_count": 101,
     "metadata": {},
     "output_type": "execute_result"
    }
   ],
   "source": [
    "auto_dummy.shape"
   ]
  },
  {
   "cell_type": "code",
   "execution_count": 102,
   "metadata": {},
   "outputs": [
    {
     "data": {
      "text/html": [
       "<div>\n",
       "<style scoped>\n",
       "    .dataframe tbody tr th:only-of-type {\n",
       "        vertical-align: middle;\n",
       "    }\n",
       "\n",
       "    .dataframe tbody tr th {\n",
       "        vertical-align: top;\n",
       "    }\n",
       "\n",
       "    .dataframe thead th {\n",
       "        text-align: right;\n",
       "    }\n",
       "</style>\n",
       "<table border=\"1\" class=\"dataframe\">\n",
       "  <thead>\n",
       "    <tr style=\"text-align: right;\">\n",
       "      <th></th>\n",
       "      <th>price</th>\n",
       "      <th>highway-mpg</th>\n",
       "      <th>city-mpg</th>\n",
       "      <th>peak-rpm</th>\n",
       "      <th>horsepower</th>\n",
       "      <th>compression-ratio</th>\n",
       "      <th>engine-size</th>\n",
       "      <th>num-of-cylinders</th>\n",
       "      <th>curb-weight</th>\n",
       "      <th>height</th>\n",
       "      <th>...</th>\n",
       "      <th>make_mitsubishi</th>\n",
       "      <th>make_nissan</th>\n",
       "      <th>make_peugot</th>\n",
       "      <th>make_plymouth</th>\n",
       "      <th>make_porsche</th>\n",
       "      <th>make_saab</th>\n",
       "      <th>make_subaru</th>\n",
       "      <th>make_toyota</th>\n",
       "      <th>make_volkswagen</th>\n",
       "      <th>make_volvo</th>\n",
       "    </tr>\n",
       "  </thead>\n",
       "  <tbody>\n",
       "    <tr>\n",
       "      <th>3</th>\n",
       "      <td>13950.0</td>\n",
       "      <td>30</td>\n",
       "      <td>24</td>\n",
       "      <td>5500.0</td>\n",
       "      <td>102.0</td>\n",
       "      <td>10.0</td>\n",
       "      <td>109</td>\n",
       "      <td>4</td>\n",
       "      <td>2337</td>\n",
       "      <td>54.3</td>\n",
       "      <td>...</td>\n",
       "      <td>False</td>\n",
       "      <td>False</td>\n",
       "      <td>False</td>\n",
       "      <td>False</td>\n",
       "      <td>False</td>\n",
       "      <td>False</td>\n",
       "      <td>False</td>\n",
       "      <td>False</td>\n",
       "      <td>False</td>\n",
       "      <td>False</td>\n",
       "    </tr>\n",
       "    <tr>\n",
       "      <th>4</th>\n",
       "      <td>17450.0</td>\n",
       "      <td>22</td>\n",
       "      <td>18</td>\n",
       "      <td>5500.0</td>\n",
       "      <td>115.0</td>\n",
       "      <td>8.0</td>\n",
       "      <td>136</td>\n",
       "      <td>5</td>\n",
       "      <td>2824</td>\n",
       "      <td>54.3</td>\n",
       "      <td>...</td>\n",
       "      <td>False</td>\n",
       "      <td>False</td>\n",
       "      <td>False</td>\n",
       "      <td>False</td>\n",
       "      <td>False</td>\n",
       "      <td>False</td>\n",
       "      <td>False</td>\n",
       "      <td>False</td>\n",
       "      <td>False</td>\n",
       "      <td>False</td>\n",
       "    </tr>\n",
       "    <tr>\n",
       "      <th>6</th>\n",
       "      <td>17710.0</td>\n",
       "      <td>25</td>\n",
       "      <td>19</td>\n",
       "      <td>5500.0</td>\n",
       "      <td>110.0</td>\n",
       "      <td>8.5</td>\n",
       "      <td>136</td>\n",
       "      <td>5</td>\n",
       "      <td>2844</td>\n",
       "      <td>55.7</td>\n",
       "      <td>...</td>\n",
       "      <td>False</td>\n",
       "      <td>False</td>\n",
       "      <td>False</td>\n",
       "      <td>False</td>\n",
       "      <td>False</td>\n",
       "      <td>False</td>\n",
       "      <td>False</td>\n",
       "      <td>False</td>\n",
       "      <td>False</td>\n",
       "      <td>False</td>\n",
       "    </tr>\n",
       "    <tr>\n",
       "      <th>8</th>\n",
       "      <td>23875.0</td>\n",
       "      <td>20</td>\n",
       "      <td>17</td>\n",
       "      <td>5500.0</td>\n",
       "      <td>140.0</td>\n",
       "      <td>8.3</td>\n",
       "      <td>131</td>\n",
       "      <td>5</td>\n",
       "      <td>3086</td>\n",
       "      <td>55.9</td>\n",
       "      <td>...</td>\n",
       "      <td>False</td>\n",
       "      <td>False</td>\n",
       "      <td>False</td>\n",
       "      <td>False</td>\n",
       "      <td>False</td>\n",
       "      <td>False</td>\n",
       "      <td>False</td>\n",
       "      <td>False</td>\n",
       "      <td>False</td>\n",
       "      <td>False</td>\n",
       "    </tr>\n",
       "    <tr>\n",
       "      <th>10</th>\n",
       "      <td>16430.0</td>\n",
       "      <td>29</td>\n",
       "      <td>23</td>\n",
       "      <td>5800.0</td>\n",
       "      <td>101.0</td>\n",
       "      <td>8.8</td>\n",
       "      <td>108</td>\n",
       "      <td>4</td>\n",
       "      <td>2395</td>\n",
       "      <td>54.3</td>\n",
       "      <td>...</td>\n",
       "      <td>False</td>\n",
       "      <td>False</td>\n",
       "      <td>False</td>\n",
       "      <td>False</td>\n",
       "      <td>False</td>\n",
       "      <td>False</td>\n",
       "      <td>False</td>\n",
       "      <td>False</td>\n",
       "      <td>False</td>\n",
       "      <td>False</td>\n",
       "    </tr>\n",
       "  </tbody>\n",
       "</table>\n",
       "<p>5 rows × 31 columns</p>\n",
       "</div>"
      ],
      "text/plain": [
       "      price  highway-mpg  city-mpg  peak-rpm  horsepower  compression-ratio  \\\n",
       "3   13950.0           30        24    5500.0       102.0               10.0   \n",
       "4   17450.0           22        18    5500.0       115.0                8.0   \n",
       "6   17710.0           25        19    5500.0       110.0                8.5   \n",
       "8   23875.0           20        17    5500.0       140.0                8.3   \n",
       "10  16430.0           29        23    5800.0       101.0                8.8   \n",
       "\n",
       "    engine-size  num-of-cylinders  curb-weight  height  ...  make_mitsubishi  \\\n",
       "3           109                 4         2337    54.3  ...            False   \n",
       "4           136                 5         2824    54.3  ...            False   \n",
       "6           136                 5         2844    55.7  ...            False   \n",
       "8           131                 5         3086    55.9  ...            False   \n",
       "10          108                 4         2395    54.3  ...            False   \n",
       "\n",
       "    make_nissan  make_peugot  make_plymouth  make_porsche  make_saab  \\\n",
       "3         False        False          False         False      False   \n",
       "4         False        False          False         False      False   \n",
       "6         False        False          False         False      False   \n",
       "8         False        False          False         False      False   \n",
       "10        False        False          False         False      False   \n",
       "\n",
       "    make_subaru  make_toyota  make_volkswagen  make_volvo  \n",
       "3         False        False            False       False  \n",
       "4         False        False            False       False  \n",
       "6         False        False            False       False  \n",
       "8         False        False            False       False  \n",
       "10        False        False            False       False  \n",
       "\n",
       "[5 rows x 31 columns]"
      ]
     },
     "execution_count": 102,
     "metadata": {},
     "output_type": "execute_result"
    }
   ],
   "source": [
    "auto_dummy.head()"
   ]
  },
  {
   "cell_type": "code",
   "execution_count": 103,
   "metadata": {},
   "outputs": [],
   "source": [
    "\n",
    "from pathlib import Path  \n",
    "filepath = Path('C:/Users/damio/Desktop/tkh/projects/automobile/data/processed/automobile.csv')  \n",
    "filepath.parent.mkdir(parents=True, exist_ok=True)  \n",
    "auto_dummy.to_csv(filepath,index= False)  "
   ]
  }
 ],
 "metadata": {
  "kernelspec": {
   "display_name": "phase1",
   "language": "python",
   "name": "python3"
  },
  "language_info": {
   "codemirror_mode": {
    "name": "ipython",
    "version": 3
   },
   "file_extension": ".py",
   "mimetype": "text/x-python",
   "name": "python",
   "nbconvert_exporter": "python",
   "pygments_lexer": "ipython3",
   "version": "3.9.18"
  }
 },
 "nbformat": 4,
 "nbformat_minor": 2
}
